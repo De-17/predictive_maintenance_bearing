version https://git-lfs.github.com/spec/v1
oid sha256:1259de21cd43a0850caff72d11793ea9d4e7fffa42c0141b907046feba4a1f5c
size 1249766
