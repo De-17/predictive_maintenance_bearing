version https://git-lfs.github.com/spec/v1
oid sha256:f1f9a78154366b66c440e8dca20eedd063e9cb8664d427e55d0d46ed352e93da
size 479285
